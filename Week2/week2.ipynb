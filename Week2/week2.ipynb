{
 "cells": [
  {
   "cell_type": "code",
   "execution_count": 0,
   "metadata": {
    "colab": {
     "base_uri": "https://localhost:8080/",
     "height": 83
    },
    "colab_type": "code",
    "id": "8UcmtppKJE7q",
    "outputId": "153267d8-7d11-4820-f6c8-2b43679e94de"
   },
   "outputs": [
    {
     "data": {
      "text/html": [
       "<p style=\"color: red;\">\n",
       "The default version of TensorFlow in Colab will soon switch to TensorFlow 2.x.<br>\n",
       "We recommend you <a href=\"https://www.tensorflow.org/guide/migrate\" target=\"_blank\">upgrade</a> now \n",
       "or ensure your notebook will continue to use TensorFlow 1.x via the <code>%tensorflow_version 1.x</code> magic:\n",
       "<a href=\"https://colab.research.google.com/notebooks/tensorflow_version.ipynb\" target=\"_blank\">more info</a>.</p>\n"
      ],
      "text/plain": [
       "<IPython.core.display.HTML object>"
      ]
     },
     "metadata": {
      "tags": []
     },
     "output_type": "display_data"
    },
    {
     "name": "stderr",
     "output_type": "stream",
     "text": [
      "Using TensorFlow backend.\n"
     ]
    }
   ],
   "source": [
    "import numpy as np\n",
    "import pandas as pd\n",
    "import tensorflow as tf\n",
    "import keras\n",
    "import matplotlib.pyplot as plt\n",
    "from sklearn.utils import check_random_state\n",
    "from sklearn.svm import LinearSVC, SVC\n",
    "from sklearn.linear_model import LinearRegression\n",
    "from sklearn.linear_model import LogisticRegression\n",
    "from sklearn.preprocessing import scale\n",
    "from sklearn.preprocessing import MinMaxScaler\n",
    "from keras.models import Sequential\n",
    "from keras.layers import Dense\n",
    "from keras import optimizers\n",
    "from keras.callbacks import EarlyStopping\n",
    "es = EarlyStopping(monitor='val_loss', mode='min', verbose=1, patience=5)"
   ]
  },
  {
   "cell_type": "code",
   "execution_count": 0,
   "metadata": {
    "colab": {
     "base_uri": "https://localhost:8080/",
     "height": 54
    },
    "colab_type": "code",
    "id": "c6ZGpiFgJKuy",
    "outputId": "80cc812c-a80c-4935-88b8-5a64ddccbfb6"
   },
   "outputs": [
    {
     "name": "stdout",
     "output_type": "stream",
     "text": [
      "Downloading data from https://s3.amazonaws.com/img-datasets/mnist.npz\n",
      "11493376/11490434 [==============================] - 0s 0us/step\n"
     ]
    }
   ],
   "source": [
    "num_class=10\n",
    "(X_train_full, y_train_full), (X_test, y_test) = keras.datasets.mnist.load_data()\n",
    "X_train_full = X_train_full.reshape((X_train_full.shape[0], -1))\n",
    "X_test = X_test.reshape((X_test.shape[0], -1))\n",
    "y_train_full=keras.utils.to_categorical(y_train_full,num_class)\n",
    "y_test=keras.utils.to_categorical(y_test,num_class)"
   ]
  },
  {
   "cell_type": "code",
   "execution_count": 0,
   "metadata": {
    "colab": {},
    "colab_type": "code",
    "id": "R0aNR9jMLnjQ"
   },
   "outputs": [],
   "source": [
    "def random_selection(probas_val, initial_labeled_samples):\n",
    "        random_state = check_random_state(0)\n",
    "        selection = np.random.choice(probas_val.shape[0], initial_labeled_samples, replace=False)\n",
    "        return selection\n",
    "def entropy_selection(probas_val, initial_labeled_samples):\n",
    "        e = (-probas_val * np.log2(probas_val)).sum(axis=1)\n",
    "        selection = (np.argsort(e)[::-1])[:initial_labeled_samples]\n",
    "        return selection\n",
    "def margin_sampling_selection(probas_val, initial_labeled_samples):\n",
    "        rev = np.sort(probas_val, axis=1)[:, ::-1]\n",
    "        values = rev[:, 0] - rev[:, 1]\n",
    "        selection = np.argsort(values)[:initial_labeled_samples]\n",
    "        return selection"
   ]
  },
  {
   "cell_type": "code",
   "execution_count": 0,
   "metadata": {
    "colab": {},
    "colab_type": "code",
    "id": "IJnxZh6RMTqj"
   },
   "outputs": [],
   "source": [
    "\n",
    "class Normalize(object):\n",
    "    \n",
    "    def normalize(self, X_train, X_val, X_test):\n",
    "        self.scaler = MinMaxScaler()\n",
    "        X_train = self.scaler.fit_transform(X_train)\n",
    "        X_val   = self.scaler.transform(X_val)\n",
    "        X_test  = self.scaler.transform(X_test)\n",
    "        return (X_train, X_val, X_test) \n",
    "    \n",
    "    def inverse(self, X_train, X_val, X_test):\n",
    "        X_train = self.scaler.inverse_transform(X_train)\n",
    "        X_val   = self.scaler.inverse_transform(X_val)\n",
    "        X_test  = self.scaler.inverse_transform(X_test)\n",
    "        return (X_train, X_val, X_test) "
   ]
  },
  {
   "cell_type": "code",
   "execution_count": 0,
   "metadata": {
    "colab": {},
    "colab_type": "code",
    "id": "LvIg7WWEMfl1"
   },
   "outputs": [],
   "source": [
    "def get_k_random_samples(k, X_train_full,y_train_full):\n",
    "    random_state = check_random_state(0)\n",
    "    idx = np.random.choice(X_train_full.shape[0],k,replace=False)\n",
    "    print ('initial random chosen samples', idx.shape),\n",
    "#            permutation)\n",
    "    X_train = X_train_full[idx]\n",
    "    y_train = y_train_full[idx]\n",
    "    X_val = np.copy(X_train_full)\n",
    "    X_val = np.delete(X_val, idx, axis=0)\n",
    "    y_val = np.copy(y_train_full)\n",
    "    y_val = np.delete(y_val, idx, axis=0)\n",
    "    return (X_train,y_train,X_val,y_val)"
   ]
  },
  {
   "cell_type": "code",
   "execution_count": 0,
   "metadata": {
    "colab": {},
    "colab_type": "code",
    "id": "MJ9rEEkTNHGD"
   },
   "outputs": [],
   "source": [
    "def get_test_accuracy(i):\n",
    "        acc_test=model.evaluate(X_test,y_test,verbose=0)[1]\n",
    "        acc_val=model.evaluate(X_val,y_val,verbose=0)[1]\n",
    "        acc_train=model.evaluate(X_train,y_train,verbose=0)[1]\n",
    "        train_acc.append(acc_train)\n",
    "        val_acc.append(acc_val)\n",
    "        test_acc.append(acc_test)\n",
    "        print('--------------------------------')\n",
    "        print('Iteration:',i)\n",
    "        print(\"Accuracy for Train Set: %f \" % (acc_train))\n",
    "        print(\"Accuracy for Val Set: %f \" % (acc_val))\n",
    "        print(\"Accuracy for Test Set: %f \" % (acc_test))\n",
    "        print('--------------------------------')"
   ]
  },
  {
   "cell_type": "code",
   "execution_count": 0,
   "metadata": {
    "colab": {},
    "colab_type": "code",
    "id": "udz-2w-FNI8p"
   },
   "outputs": [],
   "source": [
    "Ks = [1000,250,125,50,25,10]\n",
    "k=Ks[0]"
   ]
  },
  {
   "cell_type": "code",
   "execution_count": 0,
   "metadata": {
    "colab": {
     "base_uri": "https://localhost:8080/",
     "height": 35
    },
    "colab_type": "code",
    "id": "IJc2N1zvT0fa",
    "outputId": "2e587078-6d09-419f-87e2-3396c3580858"
   },
   "outputs": [
    {
     "name": "stdout",
     "output_type": "stream",
     "text": [
      "initial random chosen samples (1000,)\n"
     ]
    }
   ],
   "source": [
    "X_train,y_train,X_val,y_val=get_k_random_samples(k,X_train_full, y_train_full)\n",
    "normalizer = Normalize()\n",
    "X_train, X_val, X_test = normalizer.normalize(X_train, X_val, X_test)"
   ]
  },
  {
   "cell_type": "code",
   "execution_count": 0,
   "metadata": {
    "colab": {
     "base_uri": "https://localhost:8080/",
     "height": 674
    },
    "colab_type": "code",
    "id": "DQkTWH4jWkBH",
    "outputId": "db260849-32ef-44dd-e24a-fb857c51cc26"
   },
   "outputs": [
    {
     "name": "stdout",
     "output_type": "stream",
     "text": [
      "WARNING:tensorflow:From /usr/local/lib/python3.6/dist-packages/keras/backend/tensorflow_backend.py:66: The name tf.get_default_graph is deprecated. Please use tf.compat.v1.get_default_graph instead.\n",
      "\n",
      "WARNING:tensorflow:From /usr/local/lib/python3.6/dist-packages/keras/backend/tensorflow_backend.py:541: The name tf.placeholder is deprecated. Please use tf.compat.v1.placeholder instead.\n",
      "\n",
      "WARNING:tensorflow:From /usr/local/lib/python3.6/dist-packages/keras/backend/tensorflow_backend.py:4432: The name tf.random_uniform is deprecated. Please use tf.random.uniform instead.\n",
      "\n",
      "WARNING:tensorflow:From /usr/local/lib/python3.6/dist-packages/keras/optimizers.py:793: The name tf.train.Optimizer is deprecated. Please use tf.compat.v1.train.Optimizer instead.\n",
      "\n",
      "WARNING:tensorflow:From /usr/local/lib/python3.6/dist-packages/keras/backend/tensorflow_backend.py:3576: The name tf.log is deprecated. Please use tf.math.log instead.\n",
      "\n",
      "WARNING:tensorflow:From /usr/local/lib/python3.6/dist-packages/tensorflow_core/python/ops/math_grad.py:1424: where (from tensorflow.python.ops.array_ops) is deprecated and will be removed in a future version.\n",
      "Instructions for updating:\n",
      "Use tf.where in 2.0, which has the same broadcast rule as np.where\n",
      "WARNING:tensorflow:From /usr/local/lib/python3.6/dist-packages/keras/backend/tensorflow_backend.py:1033: The name tf.assign_add is deprecated. Please use tf.compat.v1.assign_add instead.\n",
      "\n",
      "WARNING:tensorflow:From /usr/local/lib/python3.6/dist-packages/keras/backend/tensorflow_backend.py:1020: The name tf.assign is deprecated. Please use tf.compat.v1.assign instead.\n",
      "\n",
      "WARNING:tensorflow:From /usr/local/lib/python3.6/dist-packages/keras/backend/tensorflow_backend.py:3005: The name tf.Session is deprecated. Please use tf.compat.v1.Session instead.\n",
      "\n",
      "WARNING:tensorflow:From /usr/local/lib/python3.6/dist-packages/keras/backend/tensorflow_backend.py:190: The name tf.get_default_session is deprecated. Please use tf.compat.v1.get_default_session instead.\n",
      "\n",
      "WARNING:tensorflow:From /usr/local/lib/python3.6/dist-packages/keras/backend/tensorflow_backend.py:197: The name tf.ConfigProto is deprecated. Please use tf.compat.v1.ConfigProto instead.\n",
      "\n",
      "WARNING:tensorflow:From /usr/local/lib/python3.6/dist-packages/keras/backend/tensorflow_backend.py:207: The name tf.global_variables is deprecated. Please use tf.compat.v1.global_variables instead.\n",
      "\n",
      "WARNING:tensorflow:From /usr/local/lib/python3.6/dist-packages/keras/backend/tensorflow_backend.py:216: The name tf.is_variable_initialized is deprecated. Please use tf.compat.v1.is_variable_initialized instead.\n",
      "\n",
      "WARNING:tensorflow:From /usr/local/lib/python3.6/dist-packages/keras/backend/tensorflow_backend.py:223: The name tf.variables_initializer is deprecated. Please use tf.compat.v1.variables_initializer instead.\n",
      "\n",
      "--------------------------------\n",
      "Iteration: 1\n",
      "Accuracy for Train Set: 0.606000 \n",
      "Accuracy for Val Set: 0.587542 \n",
      "Accuracy for Test Set: 0.602700 \n",
      "--------------------------------\n"
     ]
    }
   ],
   "source": [
    "active_iteration = 1\n",
    "train_acc=[]\n",
    "val_acc=[]\n",
    "test_acc=[]\n",
    "samplecount=[X_train.shape[0]]\n",
    "model = Sequential()\n",
    "model.add(Dense(10,input_dim=28*28, activation='softmax'))\n",
    "# Compile model\n",
    "model.compile(loss=keras.losses.categorical_crossentropy, optimizer=optimizers.SGD(lr=1e-4, momentum=0.9),\n",
    "              metrics=['accuracy'])\n",
    "batch_size=32\n",
    "epochs=30\n",
    "model.fit(X_train, y_train,\n",
    "          batch_size=batch_size,\n",
    "         epochs=epochs,\n",
    "          verbose=0,\n",
    "          validation_data=(X_val, y_val), callbacks=[es])\n",
    "test_y_predicted = model.predict(X_test)\n",
    "val_y_predicted = model.predict(X_val)\n",
    "get_test_accuracy(active_iteration)"
   ]
  },
  {
   "cell_type": "code",
   "execution_count": 0,
   "metadata": {
    "colab": {
     "base_uri": "https://localhost:8080/",
     "height": 1000
    },
    "colab_type": "code",
    "id": "xmsTvbfK9YmC",
    "outputId": "2a4e2763-86f5-4172-9423-a8bbdf916450"
   },
   "outputs": [
    {
     "name": "stderr",
     "output_type": "stream",
     "text": [
      "/usr/local/lib/python3.6/dist-packages/ipykernel_launcher.py:6: RuntimeWarning: divide by zero encountered in log2\n",
      "  \n",
      "/usr/local/lib/python3.6/dist-packages/ipykernel_launcher.py:6: RuntimeWarning: invalid value encountered in multiply\n",
      "  \n"
     ]
    },
    {
     "name": "stdout",
     "output_type": "stream",
     "text": [
      "train set: (2000, 784) (2000, 10)\n",
      "val set: (58000, 784) (58000, 10)\n",
      "--------------------------------\n",
      "Iteration: 2\n",
      "Accuracy for Train Set: 0.730000 \n",
      "Accuracy for Val Set: 0.714603 \n",
      "Accuracy for Test Set: 0.736200 \n",
      "--------------------------------\n",
      "train set: (3000, 784) (3000, 10)\n",
      "val set: (57000, 784) (57000, 10)\n",
      "--------------------------------\n",
      "Iteration: 3\n",
      "Accuracy for Train Set: 0.739667 \n",
      "Accuracy for Val Set: 0.784281 \n",
      "Accuracy for Test Set: 0.795500 \n",
      "--------------------------------\n",
      "train set: (4000, 784) (4000, 10)\n",
      "val set: (56000, 784) (56000, 10)\n",
      "--------------------------------\n",
      "Iteration: 4\n",
      "Accuracy for Train Set: 0.730500 \n",
      "Accuracy for Val Set: 0.816321 \n",
      "Accuracy for Test Set: 0.820500 \n",
      "--------------------------------\n",
      "train set: (5000, 784) (5000, 10)\n",
      "val set: (55000, 784) (55000, 10)\n",
      "--------------------------------\n",
      "Iteration: 5\n",
      "Accuracy for Train Set: 0.724000 \n",
      "Accuracy for Val Set: 0.844527 \n",
      "Accuracy for Test Set: 0.841300 \n",
      "--------------------------------\n",
      "train set: (6000, 784) (6000, 10)\n",
      "val set: (54000, 784) (54000, 10)\n",
      "--------------------------------\n",
      "Iteration: 6\n",
      "Accuracy for Train Set: 0.716833 \n",
      "Accuracy for Val Set: 0.862278 \n",
      "Accuracy for Test Set: 0.851700 \n",
      "--------------------------------\n",
      "train set: (7000, 784) (7000, 10)\n",
      "val set: (53000, 784) (53000, 10)\n",
      "--------------------------------\n",
      "Iteration: 7\n",
      "Accuracy for Train Set: 0.716286 \n",
      "Accuracy for Val Set: 0.878075 \n",
      "Accuracy for Test Set: 0.861100 \n",
      "--------------------------------\n",
      "train set: (8000, 784) (8000, 10)\n",
      "val set: (52000, 784) (52000, 10)\n",
      "--------------------------------\n",
      "Iteration: 8\n",
      "Accuracy for Train Set: 0.714875 \n",
      "Accuracy for Val Set: 0.891654 \n",
      "Accuracy for Test Set: 0.870900 \n",
      "--------------------------------\n",
      "train set: (9000, 784) (9000, 10)\n",
      "val set: (51000, 784) (51000, 10)\n",
      "--------------------------------\n",
      "Iteration: 9\n",
      "Accuracy for Train Set: 0.717111 \n",
      "Accuracy for Val Set: 0.903843 \n",
      "Accuracy for Test Set: 0.877900 \n",
      "--------------------------------\n",
      "train set: (10000, 784) (10000, 10)\n",
      "val set: (50000, 784) (50000, 10)\n",
      "--------------------------------\n",
      "Iteration: 10\n",
      "Accuracy for Train Set: 0.722100 \n",
      "Accuracy for Val Set: 0.915580 \n",
      "Accuracy for Test Set: 0.882100 \n",
      "--------------------------------\n",
      "train set: (11000, 784) (11000, 10)\n",
      "val set: (49000, 784) (49000, 10)\n",
      "--------------------------------\n",
      "Iteration: 11\n",
      "Accuracy for Train Set: 0.727727 \n",
      "Accuracy for Val Set: 0.925204 \n",
      "Accuracy for Test Set: 0.888900 \n",
      "--------------------------------\n",
      "train set: (12000, 784) (12000, 10)\n",
      "val set: (48000, 784) (48000, 10)\n",
      "--------------------------------\n",
      "Iteration: 12\n",
      "Accuracy for Train Set: 0.737083 \n",
      "Accuracy for Val Set: 0.934729 \n",
      "Accuracy for Test Set: 0.894300 \n",
      "--------------------------------\n",
      "train set: (13000, 784) (13000, 10)\n",
      "val set: (47000, 784) (47000, 10)\n",
      "--------------------------------\n",
      "Iteration: 13\n",
      "Accuracy for Train Set: 0.743692 \n",
      "Accuracy for Val Set: 0.944660 \n",
      "Accuracy for Test Set: 0.899800 \n",
      "--------------------------------\n",
      "train set: (14000, 784) (14000, 10)\n",
      "val set: (46000, 784) (46000, 10)\n",
      "--------------------------------\n",
      "Iteration: 14\n",
      "Accuracy for Train Set: 0.750143 \n",
      "Accuracy for Val Set: 0.953217 \n",
      "Accuracy for Test Set: 0.904600 \n",
      "--------------------------------\n",
      "train set: (15000, 784) (15000, 10)\n",
      "val set: (45000, 784) (45000, 10)\n",
      "--------------------------------\n",
      "Iteration: 15\n",
      "Accuracy for Train Set: 0.757000 \n",
      "Accuracy for Val Set: 0.960778 \n",
      "Accuracy for Test Set: 0.907700 \n",
      "--------------------------------\n",
      "train set: (16000, 784) (16000, 10)\n",
      "val set: (44000, 784) (44000, 10)\n",
      "--------------------------------\n",
      "Iteration: 16\n",
      "Accuracy for Train Set: 0.764687 \n",
      "Accuracy for Val Set: 0.967023 \n",
      "Accuracy for Test Set: 0.910100 \n",
      "--------------------------------\n",
      "train set: (17000, 784) (17000, 10)\n",
      "val set: (43000, 784) (43000, 10)\n",
      "--------------------------------\n",
      "Iteration: 17\n",
      "Accuracy for Train Set: 0.771294 \n",
      "Accuracy for Val Set: 0.973512 \n",
      "Accuracy for Test Set: 0.914000 \n",
      "--------------------------------\n",
      "train set: (18000, 784) (18000, 10)\n",
      "val set: (42000, 784) (42000, 10)\n",
      "--------------------------------\n",
      "Iteration: 18\n",
      "Accuracy for Train Set: 0.779389 \n",
      "Accuracy for Val Set: 0.979405 \n",
      "Accuracy for Test Set: 0.916200 \n",
      "--------------------------------\n",
      "train set: (19000, 784) (19000, 10)\n",
      "val set: (41000, 784) (41000, 10)\n",
      "--------------------------------\n",
      "Iteration: 19\n",
      "Accuracy for Train Set: 0.786947 \n",
      "Accuracy for Val Set: 0.983293 \n",
      "Accuracy for Test Set: 0.918500 \n",
      "--------------------------------\n",
      "train set: (20000, 784) (20000, 10)\n",
      "val set: (40000, 784) (40000, 10)\n",
      "--------------------------------\n",
      "Iteration: 20\n",
      "Accuracy for Train Set: 0.795000 \n",
      "Accuracy for Val Set: 0.985775 \n",
      "Accuracy for Test Set: 0.920000 \n",
      "--------------------------------\n",
      "train set: (21000, 784) (21000, 10)\n",
      "val set: (39000, 784) (39000, 10)\n",
      "--------------------------------\n",
      "Iteration: 21\n",
      "Accuracy for Train Set: 0.804381 \n",
      "Accuracy for Val Set: 0.987154 \n",
      "Accuracy for Test Set: 0.920500 \n",
      "--------------------------------\n"
     ]
    }
   ],
   "source": [
    "max_iteration=20\n",
    "while active_iteration<=max_iteration:\n",
    "  active_iteration += 1\n",
    "  probas_val = model.predict(X_val)\n",
    "  uncertain_samples =entropy_selection(probas_val, k)\n",
    "  X_train, X_val, X_test = normalizer.inverse(X_train, X_val, X_test)   \n",
    "  X_train = np.concatenate((X_train, X_val[uncertain_samples]))\n",
    "  y_train = np.concatenate((y_train, y_val[uncertain_samples]))\n",
    "  samplecount.append(X_train.shape[0])\n",
    "  X_val = np.delete(X_val, uncertain_samples, axis=0)\n",
    "  y_val = np.delete(y_val, uncertain_samples, axis=0)\n",
    "  print ('train set:', X_train.shape, y_train.shape)\n",
    "  print ('val set:', X_val.shape, y_val.shape)\n",
    "  normalizer = Normalize()\n",
    "  X_train, X_val, X_test = normalizer.normalize(X_train, X_val, X_test) \n",
    "  model.fit(X_train, y_train,\n",
    "          batch_size=batch_size,\n",
    "         epochs=epochs,\n",
    "          verbose=0,\n",
    "          validation_data=(X_val, y_val), callbacks=[es])\n",
    "  get_test_accuracy(active_iteration)\n"
   ]
  },
  {
   "cell_type": "code",
   "execution_count": 0,
   "metadata": {
    "colab": {
     "base_uri": "https://localhost:8080/",
     "height": 1000
    },
    "colab_type": "code",
    "id": "6Sjc1jkn_LXk",
    "outputId": "8b7d3efb-29b7-46d6-a259-27edc6b6af0d"
   },
   "outputs": [
    {
     "name": "stdout",
     "output_type": "stream",
     "text": [
      "train set: (22000, 784) (22000, 10)\n",
      "val set: (38000, 784) (38000, 10)\n",
      "--------------------------------\n",
      "Iteration: 22\n",
      "Accuracy for Train Set: 0.811318 \n",
      "Accuracy for Val Set: 0.988921 \n",
      "Accuracy for Test Set: 0.921500 \n",
      "--------------------------------\n",
      "train set: (23000, 784) (23000, 10)\n",
      "val set: (37000, 784) (37000, 10)\n",
      "--------------------------------\n",
      "Iteration: 23\n",
      "Accuracy for Train Set: 0.819087 \n",
      "Accuracy for Val Set: 0.989811 \n",
      "Accuracy for Test Set: 0.922300 \n",
      "--------------------------------\n",
      "train set: (24000, 784) (24000, 10)\n",
      "val set: (36000, 784) (36000, 10)\n",
      "--------------------------------\n",
      "Iteration: 24\n",
      "Accuracy for Train Set: 0.825625 \n",
      "Accuracy for Val Set: 0.990972 \n",
      "Accuracy for Test Set: 0.922700 \n",
      "--------------------------------\n",
      "train set: (25000, 784) (25000, 10)\n",
      "val set: (35000, 784) (35000, 10)\n",
      "--------------------------------\n",
      "Iteration: 25\n",
      "Accuracy for Train Set: 0.832480 \n",
      "Accuracy for Val Set: 0.991800 \n",
      "Accuracy for Test Set: 0.922700 \n",
      "--------------------------------\n",
      "train set: (26000, 784) (26000, 10)\n",
      "val set: (34000, 784) (34000, 10)\n",
      "--------------------------------\n",
      "Iteration: 26\n",
      "Accuracy for Train Set: 0.838115 \n",
      "Accuracy for Val Set: 0.992471 \n",
      "Accuracy for Test Set: 0.923300 \n",
      "--------------------------------\n",
      "train set: (27000, 784) (27000, 10)\n",
      "val set: (33000, 784) (33000, 10)\n",
      "--------------------------------\n",
      "Iteration: 27\n",
      "Accuracy for Train Set: 0.843963 \n",
      "Accuracy for Val Set: 0.993182 \n",
      "Accuracy for Test Set: 0.924200 \n",
      "--------------------------------\n",
      "train set: (28000, 784) (28000, 10)\n",
      "val set: (32000, 784) (32000, 10)\n",
      "--------------------------------\n",
      "Iteration: 28\n",
      "Accuracy for Train Set: 0.849250 \n",
      "Accuracy for Val Set: 0.993719 \n",
      "Accuracy for Test Set: 0.923900 \n",
      "--------------------------------\n",
      "train set: (29000, 784) (29000, 10)\n",
      "val set: (31000, 784) (31000, 10)\n",
      "--------------------------------\n",
      "Iteration: 29\n",
      "Accuracy for Train Set: 0.854586 \n",
      "Accuracy for Val Set: 0.994161 \n",
      "Accuracy for Test Set: 0.924900 \n",
      "--------------------------------\n",
      "train set: (30000, 784) (30000, 10)\n",
      "val set: (30000, 784) (30000, 10)\n",
      "--------------------------------\n",
      "Iteration: 30\n",
      "Accuracy for Train Set: 0.859133 \n",
      "Accuracy for Val Set: 0.994500 \n",
      "Accuracy for Test Set: 0.924800 \n",
      "--------------------------------\n",
      "train set: (31000, 784) (31000, 10)\n",
      "val set: (29000, 784) (29000, 10)\n",
      "Epoch 00024: early stopping\n",
      "--------------------------------\n",
      "Iteration: 31\n",
      "Accuracy for Train Set: 0.863710 \n",
      "Accuracy for Val Set: 0.994621 \n",
      "Accuracy for Test Set: 0.925000 \n",
      "--------------------------------\n",
      "train set: (32000, 784) (32000, 10)\n",
      "val set: (28000, 784) (28000, 10)\n",
      "--------------------------------\n",
      "Iteration: 32\n",
      "Accuracy for Train Set: 0.868094 \n",
      "Accuracy for Val Set: 0.994857 \n",
      "Accuracy for Test Set: 0.924300 \n",
      "--------------------------------\n",
      "train set: (33000, 784) (33000, 10)\n",
      "val set: (27000, 784) (27000, 10)\n",
      "--------------------------------\n",
      "Iteration: 33\n",
      "Accuracy for Train Set: 0.872000 \n",
      "Accuracy for Val Set: 0.995037 \n",
      "Accuracy for Test Set: 0.923900 \n",
      "--------------------------------\n",
      "train set: (34000, 784) (34000, 10)\n",
      "val set: (26000, 784) (26000, 10)\n",
      "Epoch 00029: early stopping\n",
      "--------------------------------\n",
      "Iteration: 34\n",
      "Accuracy for Train Set: 0.876147 \n",
      "Accuracy for Val Set: 0.995308 \n",
      "Accuracy for Test Set: 0.923800 \n",
      "--------------------------------\n",
      "train set: (35000, 784) (35000, 10)\n",
      "val set: (25000, 784) (25000, 10)\n",
      "Epoch 00021: early stopping\n",
      "--------------------------------\n",
      "Iteration: 35\n",
      "Accuracy for Train Set: 0.879543 \n",
      "Accuracy for Val Set: 0.995480 \n",
      "Accuracy for Test Set: 0.923800 \n",
      "--------------------------------\n",
      "train set: (36000, 784) (36000, 10)\n",
      "val set: (24000, 784) (24000, 10)\n",
      "Epoch 00015: early stopping\n",
      "--------------------------------\n",
      "Iteration: 36\n",
      "Accuracy for Train Set: 0.882750 \n",
      "Accuracy for Val Set: 0.995875 \n",
      "Accuracy for Test Set: 0.924100 \n",
      "--------------------------------\n",
      "train set: (37000, 784) (37000, 10)\n",
      "val set: (23000, 784) (23000, 10)\n",
      "Epoch 00024: early stopping\n",
      "--------------------------------\n",
      "Iteration: 37\n",
      "Accuracy for Train Set: 0.885919 \n",
      "Accuracy for Val Set: 0.995913 \n",
      "Accuracy for Test Set: 0.924100 \n",
      "--------------------------------\n",
      "train set: (38000, 784) (38000, 10)\n",
      "val set: (22000, 784) (22000, 10)\n",
      "Epoch 00014: early stopping\n",
      "--------------------------------\n",
      "Iteration: 38\n",
      "Accuracy for Train Set: 0.888974 \n",
      "Accuracy for Val Set: 0.996045 \n",
      "Accuracy for Test Set: 0.924100 \n",
      "--------------------------------\n",
      "train set: (39000, 784) (39000, 10)\n",
      "val set: (21000, 784) (21000, 10)\n",
      "Epoch 00006: early stopping\n",
      "--------------------------------\n",
      "Iteration: 39\n",
      "Accuracy for Train Set: 0.891590 \n",
      "Accuracy for Val Set: 0.996238 \n",
      "Accuracy for Test Set: 0.924100 \n",
      "--------------------------------\n",
      "train set: (40000, 784) (40000, 10)\n",
      "val set: (20000, 784) (20000, 10)\n",
      "Epoch 00007: early stopping\n",
      "--------------------------------\n",
      "Iteration: 40\n",
      "Accuracy for Train Set: 0.894325 \n",
      "Accuracy for Val Set: 0.996200 \n",
      "Accuracy for Test Set: 0.924000 \n",
      "--------------------------------\n"
     ]
    }
   ],
   "source": [
    "max_iteration=40\n",
    "while active_iteration<max_iteration:\n",
    "  active_iteration += 1\n",
    "  probas_val = model.predict(X_val)\n",
    "  uncertain_samples =entropy_selection(probas_val, k)\n",
    "  X_train, X_val, X_test = normalizer.inverse(X_train, X_val, X_test)   \n",
    "  X_train = np.concatenate((X_train, X_val[uncertain_samples]))\n",
    "  y_train = np.concatenate((y_train, y_val[uncertain_samples]))\n",
    "  samplecount.append(X_train.shape[0])\n",
    "  X_val = np.delete(X_val, uncertain_samples, axis=0)\n",
    "  y_val = np.delete(y_val, uncertain_samples, axis=0)\n",
    "  print ('train set:', X_train.shape, y_train.shape)\n",
    "  print ('val set:', X_val.shape, y_val.shape)\n",
    "  normalizer = Normalize()\n",
    "  X_train, X_val, X_test = normalizer.normalize(X_train, X_val, X_test) \n",
    "  model.fit(X_train, y_train,\n",
    "          batch_size=batch_size,\n",
    "         epochs=epochs,\n",
    "          verbose=0,\n",
    "          validation_data=(X_val, y_val), callbacks=[es])\n",
    "  get_test_accuracy(active_iteration)\n"
   ]
  },
  {
   "cell_type": "code",
   "execution_count": 0,
   "metadata": {
    "colab": {
     "base_uri": "https://localhost:8080/",
     "height": 35
    },
    "colab_type": "code",
    "id": "u3NV1hGfbJWZ",
    "outputId": "be38ea6d-ab94-4070-c37e-8e2bbf9a057c"
   },
   "outputs": [
    {
     "name": "stdout",
     "output_type": "stream",
     "text": [
      "Final Accuracy on Test Set: 0.924\n"
     ]
    }
   ],
   "source": [
    "print('Final Accuracy on Test Set:',test_acc[len(test_acc)-1])"
   ]
  },
  {
   "cell_type": "code",
   "execution_count": 0,
   "metadata": {
    "colab": {
     "base_uri": "https://localhost:8080/",
     "height": 313
    },
    "colab_type": "code",
    "id": "gceiLTmyHmUd",
    "outputId": "d334f138-14f2-44a3-9183-d9ffe208ad20"
   },
   "outputs": [
    {
     "data": {
      "text/plain": [
       "[<matplotlib.lines.Line2D at 0x7f671a142470>]"
      ]
     },
     "execution_count": 18,
     "metadata": {
      "tags": []
     },
     "output_type": "execute_result"
    },
    {
     "data": {
      "image/png": "[encoded data removed]",
      "text/plain": [
       "<Figure size 432x288 with 1 Axes>"
      ]
     },
     "metadata": {
      "tags": []
     },
     "output_type": "display_data"
    }
   ],
   "source": [
    "plt.title('Accuracy in Test Set')\n",
    "plt.xlabel('Epoch')\n",
    "plt.ylabel('Accuracy')\n",
    "plt.plot(test_acc)"
   ]
  },
  {
   "cell_type": "code",
   "execution_count": 0,
   "metadata": {
    "colab": {
     "base_uri": "https://localhost:8080/",
     "height": 313
    },
    "colab_type": "code",
    "id": "A8-leHzOR5hp",
    "outputId": "130b162e-793d-4fc0-a5c4-b8c70dadf5b1"
   },
   "outputs": [
    {
     "data": {
      "text/plain": [
       "[<matplotlib.lines.Line2D at 0x7f671a0f1eb8>]"
      ]
     },
     "execution_count": 23,
     "metadata": {
      "tags": []
     },
     "output_type": "execute_result"
    },
    {
     "data": {
      "image/png": "[encoded data removed]",
      "text/plain": [
       "<Figure size 432x288 with 1 Axes>"
      ]
     },
     "metadata": {
      "tags": []
     },
     "output_type": "display_data"
    }
   ],
   "source": [
    "plt.title('Accuracy in Train Set')\n",
    "plt.xlabel('Epoch')\n",
    "plt.ylabel('Accuracy')\n",
    "plt.plot(train_acc)"
   ]
  },
  {
   "cell_type": "code",
   "execution_count": 0,
   "metadata": {
    "colab": {
     "base_uri": "https://localhost:8080/",
     "height": 313
    },
    "colab_type": "code",
    "id": "EOnlNMD1XEGu",
    "outputId": "ae215e7a-89f2-4196-a521-ff624fcc995c"
   },
   "outputs": [
    {
     "data": {
      "text/plain": [
       "[<matplotlib.lines.Line2D at 0x7f671a03fef0>]"
      ]
     },
     "execution_count": 24,
     "metadata": {
      "tags": []
     },
     "output_type": "execute_result"
    },
    {
     "data": {
      "image/png": "[encoded data removed]",
      "text/plain": [
       "<Figure size 432x288 with 1 Axes>"
      ]
     },
     "metadata": {
      "tags": []
     },
     "output_type": "display_data"
    }
   ],
   "source": [
    "plt.title('Accuracy in Val Set')\n",
    "plt.xlabel('Epoch')\n",
    "plt.ylabel('Accuracy')\n",
    "plt.plot(val_acc)"
   ]
  },
  {
   "cell_type": "code",
   "execution_count": 0,
   "metadata": {
    "colab": {
     "base_uri": "https://localhost:8080/",
     "height": 745
    },
    "colab_type": "code",
    "id": "i4R6DIOBYQeh",
    "outputId": "b7a1b507-e834-4a57-d53c-2849eb4c25fd"
   },
   "outputs": [
    {
     "data": {
      "text/plain": [
       "[0.606,\n",
       " 0.73,\n",
       " 0.7396666666666667,\n",
       " 0.7305,\n",
       " 0.724,\n",
       " 0.7168333333333333,\n",
       " 0.7162857142857143,\n",
       " 0.714875,\n",
       " 0.7171111111111111,\n",
       " 0.7221,\n",
       " 0.7277272727272728,\n",
       " 0.7370833333333333,\n",
       " 0.7436923076923077,\n",
       " 0.7501428571428571,\n",
       " 0.757,\n",
       " 0.7646875,\n",
       " 0.7712941176470588,\n",
       " 0.7793888888888889,\n",
       " 0.7869473683959559,\n",
       " 0.795,\n",
       " 0.8043809523809524,\n",
       " 0.8113181818181818,\n",
       " 0.8190869565217391,\n",
       " 0.825625,\n",
       " 0.83248,\n",
       " 0.8381153846153846,\n",
       " 0.8439629629453024,\n",
       " 0.84925,\n",
       " 0.8545862068965517,\n",
       " 0.8591333333333333,\n",
       " 0.8637096774193549,\n",
       " 0.86809375,\n",
       " 0.872,\n",
       " 0.8761470588235294,\n",
       " 0.8795428571428572,\n",
       " 0.88275,\n",
       " 0.8859189189189189,\n",
       " 0.8889736842105264,\n",
       " 0.8915897435897436,\n",
       " 0.894325]"
      ]
     },
     "execution_count": 25,
     "metadata": {
      "tags": []
     },
     "output_type": "execute_result"
    }
   ],
   "source": [
    "train_acc"
   ]
  },
  {
   "cell_type": "code",
   "execution_count": 0,
   "metadata": {
    "colab": {
     "base_uri": "https://localhost:8080/",
     "height": 745
    },
    "colab_type": "code",
    "id": "zDUWknTDZCtx",
    "outputId": "71e0b8e4-99a1-4e18-8042-0d2aafe13723"
   },
   "outputs": [
    {
     "data": {
      "text/plain": [
       "[0.6027,\n",
       " 0.7362,\n",
       " 0.7955,\n",
       " 0.8205,\n",
       " 0.8413,\n",
       " 0.8517,\n",
       " 0.8611,\n",
       " 0.8709,\n",
       " 0.8779,\n",
       " 0.8821,\n",
       " 0.8889,\n",
       " 0.8943,\n",
       " 0.8998,\n",
       " 0.9046,\n",
       " 0.9077,\n",
       " 0.9101,\n",
       " 0.914,\n",
       " 0.9162,\n",
       " 0.9185,\n",
       " 0.92,\n",
       " 0.9205,\n",
       " 0.9215,\n",
       " 0.9223,\n",
       " 0.9227,\n",
       " 0.9227,\n",
       " 0.9233,\n",
       " 0.9242,\n",
       " 0.9239,\n",
       " 0.9249,\n",
       " 0.9248,\n",
       " 0.925,\n",
       " 0.9243,\n",
       " 0.9239,\n",
       " 0.9238,\n",
       " 0.9238,\n",
       " 0.9241,\n",
       " 0.9241,\n",
       " 0.9241,\n",
       " 0.9241,\n",
       " 0.924]"
      ]
     },
     "execution_count": 26,
     "metadata": {
      "tags": []
     },
     "output_type": "execute_result"
    }
   ],
   "source": [
    "test_acc"
   ]
  },
  {
   "cell_type": "code",
   "execution_count": 0,
   "metadata": {
    "colab": {
     "base_uri": "https://localhost:8080/",
     "height": 745
    },
    "colab_type": "code",
    "id": "_nRSCdIKZD6q",
    "outputId": "e9ab3c36-047d-4623-e7a0-f47c49fdf161"
   },
   "outputs": [
    {
     "data": {
      "text/plain": [
       "[0.5875423728813559,\n",
       " 0.7146034482758621,\n",
       " 0.7842807017543859,\n",
       " 0.8163214285714285,\n",
       " 0.8445272727272727,\n",
       " 0.8622777777777778,\n",
       " 0.8780754716981132,\n",
       " 0.8916538461538461,\n",
       " 0.903843137254902,\n",
       " 0.91558,\n",
       " 0.9252040816326531,\n",
       " 0.9347291666666667,\n",
       " 0.9446595744680851,\n",
       " 0.9532173913043478,\n",
       " 0.9607777777777777,\n",
       " 0.9670227272727273,\n",
       " 0.9735116279069768,\n",
       " 0.9794047619047619,\n",
       " 0.9832926829268293,\n",
       " 0.985775,\n",
       " 0.9871538461538462,\n",
       " 0.9889210526315789,\n",
       " 0.9898108108108108,\n",
       " 0.9909722222222223,\n",
       " 0.9918,\n",
       " 0.9924705882352941,\n",
       " 0.9931818181818182,\n",
       " 0.99371875,\n",
       " 0.9941612903225806,\n",
       " 0.9945,\n",
       " 0.9946206896551724,\n",
       " 0.9948571428571429,\n",
       " 0.995037037037037,\n",
       " 0.9953076923076923,\n",
       " 0.99548,\n",
       " 0.995875,\n",
       " 0.9959130434782608,\n",
       " 0.9960454545454546,\n",
       " 0.9962380952380953,\n",
       " 0.9962]"
      ]
     },
     "execution_count": 27,
     "metadata": {
      "tags": []
     },
     "output_type": "execute_result"
    }
   ],
   "source": [
    "val_acc"
   ]
  },
  {
   "cell_type": "code",
   "execution_count": 0,
   "metadata": {
    "colab": {
     "base_uri": "https://localhost:8080/",
     "height": 313
    },
    "colab_type": "code",
    "id": "3aq0PK0nZEoj",
    "outputId": "2b88c7d2-3f05-4bf4-a996-0cc22b2e8ffa"
   },
   "outputs": [
    {
     "data": {
      "text/plain": [
       "[<matplotlib.lines.Line2D at 0x7f6719fe9128>]"
      ]
     },
     "execution_count": 28,
     "metadata": {
      "tags": []
     },
     "output_type": "execute_result"
    },
    {
     "data": {
      "image/png": "[encoded data removed]",
      "text/plain": [
       "<Figure size 432x288 with 1 Axes>"
      ]
     },
     "metadata": {
      "tags": []
     },
     "output_type": "display_data"
    }
   ],
   "source": [
    "plt.title('Number of samples in Train Set')\n",
    "plt.xlabel('Epoch')\n",
    "plt.ylabel('Num of samples')\n",
    "plt.plot(samplecount)"
   ]
  },
  {
   "cell_type": "code",
   "execution_count": 0,
   "metadata": {
    "colab": {},
    "colab_type": "code",
    "id": "zeaTHOdbZZuT"
   },
   "outputs": [],
   "source": []
  }
 ],
 "metadata": {
  "accelerator": "GPU",
  "colab": {
   "collapsed_sections": [],
   "name": "Build.ipynb",
   "provenance": []
  },
  "kernelspec": {
   "display_name": "Python 3",
   "language": "python",
   "name": "python3"
  },
  "language_info": {
   "codemirror_mode": {
    "name": "ipython",
    "version": 3
   },
   "file_extension": ".py",
   "mimetype": "text/x-python",
   "name": "python",
   "nbconvert_exporter": "python",
   "pygments_lexer": "ipython3",
   "version": "3.5.2"
  }
 },
 "nbformat": 4,
 "nbformat_minor": 1
}
