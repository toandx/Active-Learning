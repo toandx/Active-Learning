{
  "nbformat": 4,
  "nbformat_minor": 0,
  "metadata": {
    "colab": {
      "name": "ActiveLearning_MNIST.ipynb",
      "provenance": [],
      "collapsed_sections": []
    },
    "kernelspec": {
      "name": "python3",
      "display_name": "Python 3"
    },
    "accelerator": "GPU"
  },
  "cells": [
    {
      "cell_type": "code",
      "metadata": {
        "id": "sbDlOVjoq_t8",
        "colab_type": "code",
        "colab": {
          "base_uri": "https://localhost:8080/",
          "height": 65
        },
        "outputId": "120c297a-561a-4e43-d6ae-7bef9a0e7f46"
      },
      "source": [
        "import numpy as np\n",
        "import pandas as pd\n",
        "import tensorflow as tf\n",
        "import matplotlib.pyplot as plt"
      ],
      "execution_count": 6,
      "outputs": [
        {
          "output_type": "display_data",
          "data": {
            "text/html": [
              "<p style=\"color: red;\">\n",
              "The default version of TensorFlow in Colab will soon switch to TensorFlow 2.x.<br>\n",
              "We recommend you <a href=\"https://www.tensorflow.org/guide/migrate\" target=\"_blank\">upgrade</a> now \n",
              "or ensure your notebook will continue to use TensorFlow 1.x via the <code>%tensorflow_version 1.x</code> magic:\n",
              "<a href=\"https://colab.research.google.com/notebooks/tensorflow_version.ipynb\" target=\"_blank\">more info</a>.</p>\n"
            ],
            "text/plain": [
              "<IPython.core.display.HTML object>"
            ]
          },
          "metadata": {
            "tags": []
          }
        }
      ]
    },
    {
      "cell_type": "code",
      "metadata": {
        "id": "lMXlFH9arXm1",
        "colab_type": "code",
        "colab": {}
      },
      "source": [
        "sess = tf.InteractiveSession()"
      ],
      "execution_count": 0,
      "outputs": []
    },
    {
      "cell_type": "code",
      "metadata": {
        "id": "lGFe6sthrfv0",
        "colab_type": "code",
        "colab": {
          "base_uri": "https://localhost:8080/",
          "height": 72
        },
        "outputId": "e65295e1-a6df-4591-8ad1-7a8d71ae187e"
      },
      "source": [
        "#load 4000 of MNIST data for train and 400 for testing\n",
        "(x_train, y_train), (x_test, y_test) = tf.keras.datasets.mnist.load_data()\n",
        "x_full = x_train[:4000] / 255\n",
        "y_full = y_train[:4000]\n",
        "x_test = x_test[:400] /255\n",
        "y_test = y_test[:400]\n",
        "x_full.shape, y_full.shape, x_test.shape, y_test.shape"
      ],
      "execution_count": 8,
      "outputs": [
        {
          "output_type": "stream",
          "text": [
            "Downloading data from https://storage.googleapis.com/tensorflow/tf-keras-datasets/mnist.npz\n",
            "11493376/11490434 [==============================] - 0s 0us/step\n"
          ],
          "name": "stdout"
        },
        {
          "output_type": "execute_result",
          "data": {
            "text/plain": [
              "((4000, 28, 28), (4000,), (400, 28, 28), (400,))"
            ]
          },
          "metadata": {
            "tags": []
          },
          "execution_count": 8
        }
      ]
    },
    {
      "cell_type": "code",
      "metadata": {
        "id": "LgCVP2zWrkI6",
        "colab_type": "code",
        "colab": {
          "base_uri": "https://localhost:8080/",
          "height": 283
        },
        "outputId": "7719cb5e-7d76-44ec-9f86-360f3c72e842"
      },
      "source": [
        "plt.imshow(x_full[3999])"
      ],
      "execution_count": 9,
      "outputs": [
        {
          "output_type": "execute_result",
          "data": {
            "text/plain": [
              "<matplotlib.image.AxesImage at 0x7f07e0033a90>"
            ]
          },
          "metadata": {
            "tags": []
          },
          "execution_count": 9
        },
        {
          "output_type": "display_data",
          "data": {
            "image/png": "[encoded data removed]",
            "text/plain": [
              "<Figure size 432x288 with 1 Axes>"
            ]
          },
          "metadata": {
            "tags": []
          }
        }
      ]
    },
    {
      "cell_type": "code",
      "metadata": {
        "id": "YXqFt4kpsyOv",
        "colab_type": "code",
        "colab": {}
      },
      "source": [
        "#build computation graph\n",
        "x = tf.placeholder(tf.float32, [None, 28, 28])\n",
        "x_flat = tf.reshape(x, [-1, 28 * 28])\n",
        "y_ = tf.placeholder(tf.int32, [None])\n",
        "W = tf.Variable(tf.zeros([28 * 28, 10]), tf.float32)\n",
        "b = tf.Variable(tf.zeros([10]), tf.float32)\n",
        "y = tf.matmul(x_flat, W) + b\n",
        "y_sm = tf.nn.softmax(y)\n",
        "loss = tf.reduce_mean(tf.nn.sparse_softmax_cross_entropy_with_logits(labels=y_, logits=y))\n",
        "train = tf.train.AdamOptimizer(0.1).minimize(loss)\n",
        "accuracy = tf.reduce_mean(tf.cast(tf.equal(y_, tf.cast(tf.argmax(y, 1), tf.int32)), tf.float32))"
      ],
      "execution_count": 0,
      "outputs": []
    },
    {
      "cell_type": "code",
      "metadata": {
        "id": "F24pp2fms1PL",
        "colab_type": "code",
        "colab": {}
      },
      "source": [
        "def reset():\n",
        "    '''Initialize data sets and session'''\n",
        "    global x_labeled, y_labeled, x_unlabeled, y_unlabeled\n",
        "    x_labeled = x_full[:0]\n",
        "    y_labeled = y_full[:0]\n",
        "    x_unlabeled = x_full\n",
        "    y_unlabeled = y_full\n",
        "    tf.global_variables_initializer().run()\n",
        "    tf.local_variables_initializer().run() \n",
        "\n",
        "def fit():\n",
        "    '''Train current labeled dataset until overfit.'''\n",
        "    trial_count = 10\n",
        "    acc = sess.run(accuracy, feed_dict={x:x_test, y_:y_test})\n",
        "    weights = sess.run([W, b])\n",
        "    while trial_count > 0:\n",
        "        sess.run(train, feed_dict={x:x_labeled, y_:y_labeled})\n",
        "        acc_new = sess.run(accuracy, feed_dict={x:x_test, y_:y_test})\n",
        "        if acc_new <= acc:\n",
        "            trial_count -= 1\n",
        "        else:\n",
        "            trial_count = 10\n",
        "            weights = sess.run([W, b])\n",
        "            acc = acc_new\n",
        "\n",
        "    sess.run([W.assign(weights[0]), b.assign(weights[1])])    \n",
        "    acc = sess.run(accuracy, feed_dict={x:x_test, y_:y_test})\n",
        "    print('Labels:', x_labeled.shape[0], '\\tAccuracy:', acc)\n",
        "\n",
        "def label_manually(n):\n",
        "    '''Human powered labeling (actually copying from the prelabeled MNIST dataset).'''\n",
        "    global x_labeled, y_labeled, x_unlabeled, y_unlabeled\n",
        "    x_labeled = np.concatenate([x_labeled, x_unlabeled[:n]])\n",
        "    y_labeled = np.concatenate([y_labeled, y_unlabeled[:n]])\n",
        "    x_unlabeled = x_unlabeled[n:]\n",
        "    y_unlabeled = y_unlabeled[n:]"
      ],
      "execution_count": 0,
      "outputs": []
    },
    {
      "cell_type": "code",
      "metadata": {
        "id": "hMCqP9kZs35Y",
        "colab_type": "code",
        "colab": {
          "base_uri": "https://localhost:8080/",
          "height": 35
        },
        "outputId": "90787f81-dc31-43a4-aeae-f1348cf007a1"
      },
      "source": [
        "#train full dataset of 1000\n",
        "reset()\n",
        "label_manually(4000)\n",
        "fit()"
      ],
      "execution_count": 12,
      "outputs": [
        {
          "output_type": "stream",
          "text": [
            "Labels: 4000 \tAccuracy: 0.9225\n"
          ],
          "name": "stdout"
        }
      ]
    },
    {
      "cell_type": "code",
      "metadata": {
        "id": "2_hQd8XVtAAn",
        "colab_type": "code",
        "colab": {
          "base_uri": "https://localhost:8080/",
          "height": 819
        },
        "outputId": "9b00333d-e542-4fcd-a6bb-8b29c9a17f06"
      },
      "source": [
        "#apply clustering\n",
        "kmeans = tf.contrib.factorization.KMeansClustering(10, use_mini_batch=False)\n",
        "kmeans.train(lambda: tf.train.limit_epochs(x_full.reshape(4000, 784).astype(np.float32), 10))"
      ],
      "execution_count": 13,
      "outputs": [
        {
          "output_type": "stream",
          "text": [
            "WARNING:tensorflow:\n",
            "The TensorFlow contrib module will not be included in TensorFlow 2.0.\n",
            "For more information, please see:\n",
            "  * https://github.com/tensorflow/community/blob/master/rfcs/20180907-contrib-sunset.md\n",
            "  * https://github.com/tensorflow/addons\n",
            "  * https://github.com/tensorflow/io (for I/O related ops)\n",
            "If you depend on functionality not listed there, please file an issue.\n",
            "\n",
            "INFO:tensorflow:Using default config.\n",
            "WARNING:tensorflow:Using temporary folder as model directory: /tmp/tmpjjee1apg\n",
            "INFO:tensorflow:Using config: {'_model_dir': '/tmp/tmpjjee1apg', '_tf_random_seed': None, '_save_summary_steps': 100, '_save_checkpoints_steps': None, '_save_checkpoints_secs': 600, '_session_config': allow_soft_placement: true\n",
            "graph_options {\n",
            "  rewrite_options {\n",
            "    meta_optimizer_iterations: ONE\n",
            "  }\n",
            "}\n",
            ", '_keep_checkpoint_max': 5, '_keep_checkpoint_every_n_hours': 10000, '_log_step_count_steps': 100, '_train_distribute': None, '_device_fn': None, '_protocol': None, '_eval_distribute': None, '_experimental_distribute': None, '_experimental_max_worker_delay_secs': None, '_session_creation_timeout_secs': 7200, '_service': None, '_cluster_spec': <tensorflow.python.training.server_lib.ClusterSpec object at 0x7f07d13d6be0>, '_task_type': 'worker', '_task_id': 0, '_global_id_in_cluster': 0, '_master': '', '_evaluation_master': '', '_is_chief': True, '_num_ps_replicas': 0, '_num_worker_replicas': 1}\n",
            "WARNING:tensorflow:From /usr/local/lib/python3.6/dist-packages/tensorflow_core/python/training/training_util.py:236: Variable.initialized_value (from tensorflow.python.ops.variables) is deprecated and will be removed in a future version.\n",
            "Instructions for updating:\n",
            "Use Variable.read_value. Variables in 2.X are initialized automatically both in eager and graph (inside tf.defun) contexts.\n",
            "WARNING:tensorflow:From <ipython-input-13-8af171ccee00>:2: limit_epochs (from tensorflow.python.training.input) is deprecated and will be removed in a future version.\n",
            "Instructions for updating:\n",
            "Queue-based input pipelines have been replaced by `tf.data`. Use `tf.data.Dataset.from_tensors(tensor).repeat(num_epochs)`.\n",
            "WARNING:tensorflow:From /usr/local/lib/python3.6/dist-packages/tensorflow_core/python/training/input.py:112: RefVariable.count_up_to (from tensorflow.python.ops.variables) is deprecated and will be removed in a future version.\n",
            "Instructions for updating:\n",
            "Prefer Dataset.range instead.\n",
            "WARNING:tensorflow:From /usr/local/lib/python3.6/dist-packages/tensorflow_core/python/ops/variables.py:2522: count_up_to (from tensorflow.python.ops.state_ops) is deprecated and will be removed in a future version.\n",
            "Instructions for updating:\n",
            "Prefer Dataset.range instead.\n",
            "INFO:tensorflow:Calling model_fn.\n",
            "INFO:tensorflow:Done calling model_fn.\n",
            "INFO:tensorflow:Create CheckpointSaverHook.\n",
            "WARNING:tensorflow:From /usr/local/lib/python3.6/dist-packages/tensorflow_core/python/ops/array_ops.py:1475: where (from tensorflow.python.ops.array_ops) is deprecated and will be removed in a future version.\n",
            "Instructions for updating:\n",
            "Use tf.where in 2.0, which has the same broadcast rule as np.where\n",
            "INFO:tensorflow:Graph was finalized.\n",
            "INFO:tensorflow:Running local_init_op.\n",
            "INFO:tensorflow:Done running local_init_op.\n",
            "INFO:tensorflow:Saving checkpoints for 0 into /tmp/tmpjjee1apg/model.ckpt.\n",
            "INFO:tensorflow:loss = 274107.62, step = 1\n",
            "INFO:tensorflow:Saving checkpoints for 10 into /tmp/tmpjjee1apg/model.ckpt.\n",
            "INFO:tensorflow:Loss for final step: 154262.9.\n"
          ],
          "name": "stdout"
        },
        {
          "output_type": "execute_result",
          "data": {
            "text/plain": [
              "<tensorflow.contrib.factorization.python.ops.kmeans.KMeansClustering at 0x7f07dfbb8ef0>"
            ]
          },
          "metadata": {
            "tags": []
          },
          "execution_count": 13
        }
      ]
    },
    {
      "cell_type": "code",
      "metadata": {
        "id": "KpSGcMh2tDzc",
        "colab_type": "code",
        "colab": {
          "base_uri": "https://localhost:8080/",
          "height": 103
        },
        "outputId": "0175b3e1-87b8-4fd6-8bdf-df1ad10aa9f2"
      },
      "source": [
        "centers = kmeans.cluster_centers().reshape([10, 28, 28])\n",
        "plt.imshow(np.concatenate([centers[i] for i in range(10)], axis=1))"
      ],
      "execution_count": 14,
      "outputs": [
        {
          "output_type": "execute_result",
          "data": {
            "text/plain": [
              "<matplotlib.image.AxesImage at 0x7f07cf7f4780>"
            ]
          },
          "metadata": {
            "tags": []
          },
          "execution_count": 14
        },
        {
          "output_type": "display_data",
          "data": {
            "image/png": "[encoded data removed]",
            "text/plain": [
              "<Figure size 432x288 with 1 Axes>"
            ]
          },
          "metadata": {
            "tags": []
          }
        }
      ]
    },
    {
      "cell_type": "code",
      "metadata": {
        "id": "iMGzfp-GtMwJ",
        "colab_type": "code",
        "colab": {
          "base_uri": "https://localhost:8080/",
          "height": 35
        },
        "outputId": "11795ddc-5cb1-43a0-b4a1-dca61d174753"
      },
      "source": [
        "#again run training on full dataset of 4000\n",
        "reset()\n",
        "label_manually(4000)\n",
        "fit()"
      ],
      "execution_count": 15,
      "outputs": [
        {
          "output_type": "stream",
          "text": [
            "Labels: 4000 \tAccuracy: 0.9225\n"
          ],
          "name": "stdout"
        }
      ]
    },
    {
      "cell_type": "code",
      "metadata": {
        "id": "mtUlfg_NtShW",
        "colab_type": "code",
        "colab": {
          "base_uri": "https://localhost:8080/",
          "height": 35
        },
        "outputId": "691ee3c1-4253-4f00-d687-f50406c6e7b8"
      },
      "source": [
        "#try to run on random 400\n",
        "reset()\n",
        "label_manually(400)\n",
        "fit()"
      ],
      "execution_count": 16,
      "outputs": [
        {
          "output_type": "stream",
          "text": [
            "Labels: 400 \tAccuracy: 0.8375\n"
          ],
          "name": "stdout"
        }
      ]
    },
    {
      "cell_type": "code",
      "metadata": {
        "id": "nDPhCyYYtU_N",
        "colab_type": "code",
        "colab": {
          "base_uri": "https://localhost:8080/",
          "height": 35
        },
        "outputId": "4c31e581-86c5-4f3d-db6b-2dec01c78901"
      },
      "source": [
        "#now try to run on 10\n",
        "reset()\n",
        "label_manually(10)\n",
        "fit()"
      ],
      "execution_count": 17,
      "outputs": [
        {
          "output_type": "stream",
          "text": [
            "Labels: 10 \tAccuracy: 0.38\n"
          ],
          "name": "stdout"
        }
      ]
    },
    {
      "cell_type": "code",
      "metadata": {
        "id": "ygkXyypJtXIv",
        "colab_type": "code",
        "colab": {
          "base_uri": "https://localhost:8080/",
          "height": 283
        },
        "outputId": "75ab6abf-4de7-47a6-cee4-e91dd5443a8c"
      },
      "source": [
        "#pass unlabeled rest 3990 through the early model\n",
        "res = sess.run(y_sm, feed_dict={x:x_unlabeled})\n",
        "#find less confident samples\n",
        "pmax = np.amax(res, axis=1)\n",
        "pidx = np.argsort(pmax)\n",
        "#sort the unlabeled corpus on the confidency\n",
        "x_unlabeled = x_unlabeled[pidx]\n",
        "y_unlabeled = y_unlabeled[pidx]\n",
        "plt.plot(pmax[pidx])"
      ],
      "execution_count": 18,
      "outputs": [
        {
          "output_type": "execute_result",
          "data": {
            "text/plain": [
              "[<matplotlib.lines.Line2D at 0x7f07cf7d6780>]"
            ]
          },
          "metadata": {
            "tags": []
          },
          "execution_count": 18
        },
        {
          "output_type": "display_data",
          "data": {
            "image/png": "[encoded data removed]",
            "text/plain": [
              "<Figure size 432x288 with 1 Axes>"
            ]
          },
          "metadata": {
            "tags": []
          }
        }
      ]
    },
    {
      "cell_type": "code",
      "metadata": {
        "id": "59hlSAG5taK6",
        "colab_type": "code",
        "colab": {
          "base_uri": "https://localhost:8080/",
          "height": 726
        },
        "outputId": "37c8e97c-887b-478c-8dd5-74986750b779"
      },
      "source": [
        "#do the same in a loop for 400 samples\n",
        "for i  in range(39):\n",
        "    label_manually(10)\n",
        "    fit()\n",
        "    \n",
        "    res = sess.run(y_sm, feed_dict={x:x_unlabeled})\n",
        "    pmax = np.amax(res, axis=1)\n",
        "    pidx = np.argsort(pmax)\n",
        "    x_unlabeled = x_unlabeled[pidx]\n",
        "    y_unlabeled = y_unlabeled[pidx]"
      ],
      "execution_count": 19,
      "outputs": [
        {
          "output_type": "stream",
          "text": [
            "Labels: 20 \tAccuracy: 0.4975\n",
            "Labels: 30 \tAccuracy: 0.535\n",
            "Labels: 40 \tAccuracy: 0.5475\n",
            "Labels: 50 \tAccuracy: 0.59\n",
            "Labels: 60 \tAccuracy: 0.64\n",
            "Labels: 70 \tAccuracy: 0.6475\n",
            "Labels: 80 \tAccuracy: 0.6925\n",
            "Labels: 90 \tAccuracy: 0.6975\n",
            "Labels: 100 \tAccuracy: 0.73\n",
            "Labels: 110 \tAccuracy: 0.745\n",
            "Labels: 120 \tAccuracy: 0.7625\n",
            "Labels: 130 \tAccuracy: 0.7725\n",
            "Labels: 140 \tAccuracy: 0.7725\n",
            "Labels: 150 \tAccuracy: 0.7725\n",
            "Labels: 160 \tAccuracy: 0.79\n",
            "Labels: 170 \tAccuracy: 0.79\n",
            "Labels: 180 \tAccuracy: 0.7975\n",
            "Labels: 190 \tAccuracy: 0.81\n",
            "Labels: 200 \tAccuracy: 0.81\n",
            "Labels: 210 \tAccuracy: 0.81\n",
            "Labels: 220 \tAccuracy: 0.81\n",
            "Labels: 230 \tAccuracy: 0.81\n",
            "Labels: 240 \tAccuracy: 0.81\n",
            "Labels: 250 \tAccuracy: 0.8125\n",
            "Labels: 260 \tAccuracy: 0.8275\n",
            "Labels: 270 \tAccuracy: 0.8325\n",
            "Labels: 280 \tAccuracy: 0.8325\n",
            "Labels: 290 \tAccuracy: 0.84\n",
            "Labels: 300 \tAccuracy: 0.84\n",
            "Labels: 310 \tAccuracy: 0.8475\n",
            "Labels: 320 \tAccuracy: 0.8475\n",
            "Labels: 330 \tAccuracy: 0.8525\n",
            "Labels: 340 \tAccuracy: 0.8525\n",
            "Labels: 350 \tAccuracy: 0.8525\n",
            "Labels: 360 \tAccuracy: 0.855\n",
            "Labels: 370 \tAccuracy: 0.855\n",
            "Labels: 380 \tAccuracy: 0.855\n",
            "Labels: 390 \tAccuracy: 0.855\n",
            "Labels: 400 \tAccuracy: 0.855\n"
          ],
          "name": "stdout"
        }
      ]
    },
    {
      "cell_type": "code",
      "metadata": {
        "id": "BuqJno3xtcbW",
        "colab_type": "code",
        "colab": {
          "base_uri": "https://localhost:8080/",
          "height": 35
        },
        "outputId": "1e234263-0b72-497b-baf2-12f94b0dcdd0"
      },
      "source": [
        "#pass rest unlabeled data through the model and try to autolabel\n",
        "res = sess.run(y_sm, feed_dict={x:x_unlabeled})\n",
        "y_autolabeled = res.argmax(axis=1)\n",
        "x_labeled = np.concatenate([x_labeled, x_unlabeled])\n",
        "y_labeled = np.concatenate([y_labeled, y_autolabeled])\n",
        "#train on 400 labeled by active learning and 3600 stochasticly autolabeled data\n",
        "fit()"
      ],
      "execution_count": 20,
      "outputs": [
        {
          "output_type": "stream",
          "text": [
            "Labels: 4000 \tAccuracy: 0.855\n"
          ],
          "name": "stdout"
        }
      ]
    },
    {
      "cell_type": "code",
      "metadata": {
        "id": "JMlESbXitfZr",
        "colab_type": "code",
        "colab": {
          "base_uri": "https://localhost:8080/",
          "height": 745
        },
        "outputId": "4eb55569-a79a-4efd-b8a1-c3a15b5c2ee1"
      },
      "source": [
        "#reset the model and train again 400 samples using active learning\n",
        "reset()\n",
        "for i in range(40):\n",
        "    label_manually(10)\n",
        "    fit()\n",
        "    \n",
        "    res = sess.run(y_sm, feed_dict={x:x_unlabeled})\n",
        "    pmax = np.amax(res, axis=1)\n",
        "    pidx = np.argsort(pmax)\n",
        "    x_unlabeled = x_unlabeled[pidx]\n",
        "    y_unlabeled = y_unlabeled[pidx]"
      ],
      "execution_count": 21,
      "outputs": [
        {
          "output_type": "stream",
          "text": [
            "Labels: 10 \tAccuracy: 0.38\n",
            "Labels: 20 \tAccuracy: 0.4975\n",
            "Labels: 30 \tAccuracy: 0.535\n",
            "Labels: 40 \tAccuracy: 0.5475\n",
            "Labels: 50 \tAccuracy: 0.59\n",
            "Labels: 60 \tAccuracy: 0.64\n",
            "Labels: 70 \tAccuracy: 0.6475\n",
            "Labels: 80 \tAccuracy: 0.6925\n",
            "Labels: 90 \tAccuracy: 0.6975\n",
            "Labels: 100 \tAccuracy: 0.73\n",
            "Labels: 110 \tAccuracy: 0.745\n",
            "Labels: 120 \tAccuracy: 0.7625\n",
            "Labels: 130 \tAccuracy: 0.7725\n",
            "Labels: 140 \tAccuracy: 0.7725\n",
            "Labels: 150 \tAccuracy: 0.7725\n",
            "Labels: 160 \tAccuracy: 0.79\n",
            "Labels: 170 \tAccuracy: 0.79\n",
            "Labels: 180 \tAccuracy: 0.7975\n",
            "Labels: 190 \tAccuracy: 0.81\n",
            "Labels: 200 \tAccuracy: 0.81\n",
            "Labels: 210 \tAccuracy: 0.81\n",
            "Labels: 220 \tAccuracy: 0.81\n",
            "Labels: 230 \tAccuracy: 0.81\n",
            "Labels: 240 \tAccuracy: 0.81\n",
            "Labels: 250 \tAccuracy: 0.8125\n",
            "Labels: 260 \tAccuracy: 0.8275\n",
            "Labels: 270 \tAccuracy: 0.8325\n",
            "Labels: 280 \tAccuracy: 0.8325\n",
            "Labels: 290 \tAccuracy: 0.84\n",
            "Labels: 300 \tAccuracy: 0.84\n",
            "Labels: 310 \tAccuracy: 0.8475\n",
            "Labels: 320 \tAccuracy: 0.8475\n",
            "Labels: 330 \tAccuracy: 0.8525\n",
            "Labels: 340 \tAccuracy: 0.8525\n",
            "Labels: 350 \tAccuracy: 0.8525\n",
            "Labels: 360 \tAccuracy: 0.855\n",
            "Labels: 370 \tAccuracy: 0.855\n",
            "Labels: 380 \tAccuracy: 0.855\n",
            "Labels: 390 \tAccuracy: 0.855\n",
            "Labels: 400 \tAccuracy: 0.855\n"
          ],
          "name": "stdout"
        }
      ]
    },
    {
      "cell_type": "code",
      "metadata": {
        "id": "7UM2MREnthf9",
        "colab_type": "code",
        "colab": {
          "base_uri": "https://localhost:8080/",
          "height": 283
        },
        "outputId": "9c73ccf9-7242-4afa-fdc5-fd0c5372e905"
      },
      "source": [
        "#pass rest of unlabeled (3600) data trough the model for automatic labeling and show most confident samples\n",
        "res = sess.run(y_sm, feed_dict={x:x_unlabeled})\n",
        "y_autolabeled = res.argmax(axis=1)\n",
        "pmax = np.amax(res, axis=1)\n",
        "pidx = np.argsort(pmax)\n",
        "#sort by confidency\n",
        "x_unlabeled = x_unlabeled[pidx]\n",
        "y_autolabeled = y_autolabeled[pidx]\n",
        "plt.plot(pmax[pidx])"
      ],
      "execution_count": 22,
      "outputs": [
        {
          "output_type": "execute_result",
          "data": {
            "text/plain": [
              "[<matplotlib.lines.Line2D at 0x7f07d008a5f8>]"
            ]
          },
          "metadata": {
            "tags": []
          },
          "execution_count": 22
        },
        {
          "output_type": "display_data",
          "data": {
            "image/png": "[encoded data removed]",
            "text/plain": [
              "<Figure size 432x288 with 1 Axes>"
            ]
          },
          "metadata": {
            "tags": []
          }
        }
      ]
    },
    {
      "cell_type": "code",
      "metadata": {
        "id": "UsRlXVodtj_6",
        "colab_type": "code",
        "colab": {
          "base_uri": "https://localhost:8080/",
          "height": 35
        },
        "outputId": "1bf302cc-dab7-4c6b-9e13-b47f537c46ba"
      },
      "source": [
        "#automatically label 10 most confident sample and train for it\n",
        "x_labeled = np.concatenate([x_labeled, x_unlabeled[-10:]])\n",
        "y_labeled = np.concatenate([y_labeled, y_autolabeled[-10:]])\n",
        "x_unlabeled = x_unlabeled[:-10]\n",
        "fit()"
      ],
      "execution_count": 23,
      "outputs": [
        {
          "output_type": "stream",
          "text": [
            "Labels: 410 \tAccuracy: 0.855\n"
          ],
          "name": "stdout"
        }
      ]
    },
    {
      "cell_type": "code",
      "metadata": {
        "id": "B5UikJZEtmXl",
        "colab_type": "code",
        "colab": {
          "base_uri": "https://localhost:8080/",
          "height": 1000
        },
        "outputId": "5b464e0b-8001-491c-cc4c-39cacdb6bd6c"
      },
      "source": [
        "#run rest of unlabelled samples starting from most confident\n",
        "for i in range(359):\n",
        "    res = sess.run(y_sm, feed_dict={x:x_unlabeled})\n",
        "    y_autolabeled = res.argmax(axis=1)\n",
        "    pmax = np.amax(res, axis=1)\n",
        "    pidx = np.argsort(pmax)\n",
        "    x_unlabeled = x_unlabeled[pidx]\n",
        "    y_autolabeled = y_autolabeled[pidx]\n",
        "    x_labeled = np.concatenate([x_labeled, x_unlabeled[-10:]])\n",
        "    y_labeled = np.concatenate([y_labeled, y_autolabeled[-10:]])\n",
        "    x_unlabeled = x_unlabeled[:-10]\n",
        "    fit()"
      ],
      "execution_count": 24,
      "outputs": [
        {
          "output_type": "stream",
          "text": [
            "Labels: 420 \tAccuracy: 0.855\n",
            "Labels: 430 \tAccuracy: 0.855\n",
            "Labels: 440 \tAccuracy: 0.855\n",
            "Labels: 450 \tAccuracy: 0.855\n",
            "Labels: 460 \tAccuracy: 0.855\n",
            "Labels: 470 \tAccuracy: 0.855\n",
            "Labels: 480 \tAccuracy: 0.855\n",
            "Labels: 490 \tAccuracy: 0.855\n",
            "Labels: 500 \tAccuracy: 0.855\n",
            "Labels: 510 \tAccuracy: 0.855\n",
            "Labels: 520 \tAccuracy: 0.855\n",
            "Labels: 530 \tAccuracy: 0.855\n",
            "Labels: 540 \tAccuracy: 0.855\n",
            "Labels: 550 \tAccuracy: 0.855\n",
            "Labels: 560 \tAccuracy: 0.855\n",
            "Labels: 570 \tAccuracy: 0.855\n",
            "Labels: 580 \tAccuracy: 0.855\n",
            "Labels: 590 \tAccuracy: 0.855\n",
            "Labels: 600 \tAccuracy: 0.855\n",
            "Labels: 610 \tAccuracy: 0.855\n",
            "Labels: 620 \tAccuracy: 0.855\n",
            "Labels: 630 \tAccuracy: 0.855\n",
            "Labels: 640 \tAccuracy: 0.855\n",
            "Labels: 650 \tAccuracy: 0.855\n",
            "Labels: 660 \tAccuracy: 0.855\n",
            "Labels: 670 \tAccuracy: 0.855\n",
            "Labels: 680 \tAccuracy: 0.855\n",
            "Labels: 690 \tAccuracy: 0.855\n",
            "Labels: 700 \tAccuracy: 0.855\n",
            "Labels: 710 \tAccuracy: 0.855\n",
            "Labels: 720 \tAccuracy: 0.855\n",
            "Labels: 730 \tAccuracy: 0.855\n",
            "Labels: 740 \tAccuracy: 0.855\n",
            "Labels: 750 \tAccuracy: 0.855\n",
            "Labels: 760 \tAccuracy: 0.855\n",
            "Labels: 770 \tAccuracy: 0.855\n",
            "Labels: 780 \tAccuracy: 0.855\n",
            "Labels: 790 \tAccuracy: 0.855\n",
            "Labels: 800 \tAccuracy: 0.855\n",
            "Labels: 810 \tAccuracy: 0.855\n",
            "Labels: 820 \tAccuracy: 0.855\n",
            "Labels: 830 \tAccuracy: 0.855\n",
            "Labels: 840 \tAccuracy: 0.855\n",
            "Labels: 850 \tAccuracy: 0.855\n",
            "Labels: 860 \tAccuracy: 0.855\n",
            "Labels: 870 \tAccuracy: 0.855\n",
            "Labels: 880 \tAccuracy: 0.855\n",
            "Labels: 890 \tAccuracy: 0.855\n",
            "Labels: 900 \tAccuracy: 0.855\n",
            "Labels: 910 \tAccuracy: 0.855\n",
            "Labels: 920 \tAccuracy: 0.855\n",
            "Labels: 930 \tAccuracy: 0.855\n",
            "Labels: 940 \tAccuracy: 0.855\n",
            "Labels: 950 \tAccuracy: 0.855\n",
            "Labels: 960 \tAccuracy: 0.855\n",
            "Labels: 970 \tAccuracy: 0.855\n",
            "Labels: 980 \tAccuracy: 0.855\n",
            "Labels: 990 \tAccuracy: 0.855\n",
            "Labels: 1000 \tAccuracy: 0.855\n",
            "Labels: 1010 \tAccuracy: 0.855\n",
            "Labels: 1020 \tAccuracy: 0.855\n",
            "Labels: 1030 \tAccuracy: 0.855\n",
            "Labels: 1040 \tAccuracy: 0.855\n",
            "Labels: 1050 \tAccuracy: 0.855\n",
            "Labels: 1060 \tAccuracy: 0.855\n",
            "Labels: 1070 \tAccuracy: 0.855\n",
            "Labels: 1080 \tAccuracy: 0.855\n",
            "Labels: 1090 \tAccuracy: 0.855\n",
            "Labels: 1100 \tAccuracy: 0.855\n",
            "Labels: 1110 \tAccuracy: 0.855\n",
            "Labels: 1120 \tAccuracy: 0.855\n",
            "Labels: 1130 \tAccuracy: 0.855\n",
            "Labels: 1140 \tAccuracy: 0.855\n",
            "Labels: 1150 \tAccuracy: 0.855\n",
            "Labels: 1160 \tAccuracy: 0.855\n",
            "Labels: 1170 \tAccuracy: 0.855\n",
            "Labels: 1180 \tAccuracy: 0.855\n",
            "Labels: 1190 \tAccuracy: 0.855\n",
            "Labels: 1200 \tAccuracy: 0.855\n",
            "Labels: 1210 \tAccuracy: 0.855\n",
            "Labels: 1220 \tAccuracy: 0.855\n",
            "Labels: 1230 \tAccuracy: 0.855\n",
            "Labels: 1240 \tAccuracy: 0.855\n",
            "Labels: 1250 \tAccuracy: 0.855\n",
            "Labels: 1260 \tAccuracy: 0.855\n",
            "Labels: 1270 \tAccuracy: 0.855\n",
            "Labels: 1280 \tAccuracy: 0.855\n",
            "Labels: 1290 \tAccuracy: 0.855\n",
            "Labels: 1300 \tAccuracy: 0.855\n",
            "Labels: 1310 \tAccuracy: 0.855\n",
            "Labels: 1320 \tAccuracy: 0.855\n",
            "Labels: 1330 \tAccuracy: 0.855\n",
            "Labels: 1340 \tAccuracy: 0.855\n",
            "Labels: 1350 \tAccuracy: 0.855\n",
            "Labels: 1360 \tAccuracy: 0.855\n",
            "Labels: 1370 \tAccuracy: 0.855\n",
            "Labels: 1380 \tAccuracy: 0.855\n",
            "Labels: 1390 \tAccuracy: 0.855\n",
            "Labels: 1400 \tAccuracy: 0.855\n",
            "Labels: 1410 \tAccuracy: 0.855\n",
            "Labels: 1420 \tAccuracy: 0.855\n",
            "Labels: 1430 \tAccuracy: 0.855\n",
            "Labels: 1440 \tAccuracy: 0.855\n",
            "Labels: 1450 \tAccuracy: 0.855\n",
            "Labels: 1460 \tAccuracy: 0.855\n",
            "Labels: 1470 \tAccuracy: 0.855\n",
            "Labels: 1480 \tAccuracy: 0.855\n",
            "Labels: 1490 \tAccuracy: 0.855\n",
            "Labels: 1500 \tAccuracy: 0.855\n",
            "Labels: 1510 \tAccuracy: 0.855\n",
            "Labels: 1520 \tAccuracy: 0.855\n",
            "Labels: 1530 \tAccuracy: 0.855\n",
            "Labels: 1540 \tAccuracy: 0.855\n",
            "Labels: 1550 \tAccuracy: 0.855\n",
            "Labels: 1560 \tAccuracy: 0.855\n",
            "Labels: 1570 \tAccuracy: 0.855\n",
            "Labels: 1580 \tAccuracy: 0.855\n",
            "Labels: 1590 \tAccuracy: 0.855\n",
            "Labels: 1600 \tAccuracy: 0.855\n",
            "Labels: 1610 \tAccuracy: 0.855\n",
            "Labels: 1620 \tAccuracy: 0.855\n",
            "Labels: 1630 \tAccuracy: 0.855\n",
            "Labels: 1640 \tAccuracy: 0.855\n",
            "Labels: 1650 \tAccuracy: 0.855\n",
            "Labels: 1660 \tAccuracy: 0.855\n",
            "Labels: 1670 \tAccuracy: 0.855\n",
            "Labels: 1680 \tAccuracy: 0.855\n",
            "Labels: 1690 \tAccuracy: 0.855\n",
            "Labels: 1700 \tAccuracy: 0.855\n",
            "Labels: 1710 \tAccuracy: 0.855\n",
            "Labels: 1720 \tAccuracy: 0.855\n",
            "Labels: 1730 \tAccuracy: 0.855\n",
            "Labels: 1740 \tAccuracy: 0.855\n",
            "Labels: 1750 \tAccuracy: 0.855\n",
            "Labels: 1760 \tAccuracy: 0.855\n",
            "Labels: 1770 \tAccuracy: 0.855\n",
            "Labels: 1780 \tAccuracy: 0.855\n",
            "Labels: 1790 \tAccuracy: 0.855\n",
            "Labels: 1800 \tAccuracy: 0.855\n",
            "Labels: 1810 \tAccuracy: 0.855\n",
            "Labels: 1820 \tAccuracy: 0.855\n",
            "Labels: 1830 \tAccuracy: 0.855\n",
            "Labels: 1840 \tAccuracy: 0.855\n",
            "Labels: 1850 \tAccuracy: 0.855\n",
            "Labels: 1860 \tAccuracy: 0.855\n",
            "Labels: 1870 \tAccuracy: 0.855\n",
            "Labels: 1880 \tAccuracy: 0.855\n",
            "Labels: 1890 \tAccuracy: 0.855\n",
            "Labels: 1900 \tAccuracy: 0.855\n",
            "Labels: 1910 \tAccuracy: 0.855\n",
            "Labels: 1920 \tAccuracy: 0.855\n",
            "Labels: 1930 \tAccuracy: 0.855\n",
            "Labels: 1940 \tAccuracy: 0.855\n",
            "Labels: 1950 \tAccuracy: 0.855\n",
            "Labels: 1960 \tAccuracy: 0.855\n",
            "Labels: 1970 \tAccuracy: 0.855\n",
            "Labels: 1980 \tAccuracy: 0.855\n",
            "Labels: 1990 \tAccuracy: 0.855\n",
            "Labels: 2000 \tAccuracy: 0.855\n",
            "Labels: 2010 \tAccuracy: 0.855\n",
            "Labels: 2020 \tAccuracy: 0.855\n",
            "Labels: 2030 \tAccuracy: 0.855\n",
            "Labels: 2040 \tAccuracy: 0.855\n",
            "Labels: 2050 \tAccuracy: 0.855\n",
            "Labels: 2060 \tAccuracy: 0.855\n",
            "Labels: 2070 \tAccuracy: 0.855\n",
            "Labels: 2080 \tAccuracy: 0.855\n",
            "Labels: 2090 \tAccuracy: 0.855\n",
            "Labels: 2100 \tAccuracy: 0.855\n",
            "Labels: 2110 \tAccuracy: 0.855\n",
            "Labels: 2120 \tAccuracy: 0.855\n",
            "Labels: 2130 \tAccuracy: 0.855\n",
            "Labels: 2140 \tAccuracy: 0.855\n",
            "Labels: 2150 \tAccuracy: 0.855\n",
            "Labels: 2160 \tAccuracy: 0.855\n",
            "Labels: 2170 \tAccuracy: 0.855\n",
            "Labels: 2180 \tAccuracy: 0.855\n",
            "Labels: 2190 \tAccuracy: 0.855\n",
            "Labels: 2200 \tAccuracy: 0.855\n",
            "Labels: 2210 \tAccuracy: 0.855\n",
            "Labels: 2220 \tAccuracy: 0.855\n",
            "Labels: 2230 \tAccuracy: 0.855\n",
            "Labels: 2240 \tAccuracy: 0.855\n",
            "Labels: 2250 \tAccuracy: 0.855\n",
            "Labels: 2260 \tAccuracy: 0.855\n",
            "Labels: 2270 \tAccuracy: 0.855\n",
            "Labels: 2280 \tAccuracy: 0.855\n",
            "Labels: 2290 \tAccuracy: 0.855\n",
            "Labels: 2300 \tAccuracy: 0.855\n",
            "Labels: 2310 \tAccuracy: 0.855\n",
            "Labels: 2320 \tAccuracy: 0.855\n",
            "Labels: 2330 \tAccuracy: 0.855\n",
            "Labels: 2340 \tAccuracy: 0.855\n",
            "Labels: 2350 \tAccuracy: 0.855\n",
            "Labels: 2360 \tAccuracy: 0.855\n",
            "Labels: 2370 \tAccuracy: 0.855\n",
            "Labels: 2380 \tAccuracy: 0.855\n",
            "Labels: 2390 \tAccuracy: 0.855\n",
            "Labels: 2400 \tAccuracy: 0.855\n",
            "Labels: 2410 \tAccuracy: 0.855\n",
            "Labels: 2420 \tAccuracy: 0.855\n",
            "Labels: 2430 \tAccuracy: 0.855\n",
            "Labels: 2440 \tAccuracy: 0.855\n",
            "Labels: 2450 \tAccuracy: 0.855\n",
            "Labels: 2460 \tAccuracy: 0.855\n",
            "Labels: 2470 \tAccuracy: 0.855\n",
            "Labels: 2480 \tAccuracy: 0.855\n",
            "Labels: 2490 \tAccuracy: 0.855\n",
            "Labels: 2500 \tAccuracy: 0.855\n",
            "Labels: 2510 \tAccuracy: 0.855\n",
            "Labels: 2520 \tAccuracy: 0.855\n",
            "Labels: 2530 \tAccuracy: 0.855\n",
            "Labels: 2540 \tAccuracy: 0.855\n",
            "Labels: 2550 \tAccuracy: 0.855\n",
            "Labels: 2560 \tAccuracy: 0.855\n",
            "Labels: 2570 \tAccuracy: 0.855\n",
            "Labels: 2580 \tAccuracy: 0.855\n",
            "Labels: 2590 \tAccuracy: 0.855\n",
            "Labels: 2600 \tAccuracy: 0.855\n",
            "Labels: 2610 \tAccuracy: 0.855\n",
            "Labels: 2620 \tAccuracy: 0.855\n",
            "Labels: 2630 \tAccuracy: 0.855\n",
            "Labels: 2640 \tAccuracy: 0.855\n",
            "Labels: 2650 \tAccuracy: 0.855\n",
            "Labels: 2660 \tAccuracy: 0.855\n",
            "Labels: 2670 \tAccuracy: 0.855\n",
            "Labels: 2680 \tAccuracy: 0.855\n",
            "Labels: 2690 \tAccuracy: 0.855\n",
            "Labels: 2700 \tAccuracy: 0.855\n",
            "Labels: 2710 \tAccuracy: 0.855\n",
            "Labels: 2720 \tAccuracy: 0.855\n",
            "Labels: 2730 \tAccuracy: 0.855\n",
            "Labels: 2740 \tAccuracy: 0.855\n",
            "Labels: 2750 \tAccuracy: 0.855\n",
            "Labels: 2760 \tAccuracy: 0.855\n",
            "Labels: 2770 \tAccuracy: 0.855\n",
            "Labels: 2780 \tAccuracy: 0.855\n",
            "Labels: 2790 \tAccuracy: 0.855\n",
            "Labels: 2800 \tAccuracy: 0.855\n",
            "Labels: 2810 \tAccuracy: 0.855\n",
            "Labels: 2820 \tAccuracy: 0.855\n",
            "Labels: 2830 \tAccuracy: 0.855\n",
            "Labels: 2840 \tAccuracy: 0.855\n",
            "Labels: 2850 \tAccuracy: 0.855\n",
            "Labels: 2860 \tAccuracy: 0.855\n",
            "Labels: 2870 \tAccuracy: 0.855\n",
            "Labels: 2880 \tAccuracy: 0.855\n",
            "Labels: 2890 \tAccuracy: 0.855\n",
            "Labels: 2900 \tAccuracy: 0.855\n",
            "Labels: 2910 \tAccuracy: 0.855\n",
            "Labels: 2920 \tAccuracy: 0.855\n",
            "Labels: 2930 \tAccuracy: 0.855\n",
            "Labels: 2940 \tAccuracy: 0.855\n",
            "Labels: 2950 \tAccuracy: 0.855\n",
            "Labels: 2960 \tAccuracy: 0.855\n",
            "Labels: 2970 \tAccuracy: 0.855\n",
            "Labels: 2980 \tAccuracy: 0.855\n",
            "Labels: 2990 \tAccuracy: 0.855\n",
            "Labels: 3000 \tAccuracy: 0.855\n",
            "Labels: 3010 \tAccuracy: 0.855\n",
            "Labels: 3020 \tAccuracy: 0.855\n",
            "Labels: 3030 \tAccuracy: 0.855\n",
            "Labels: 3040 \tAccuracy: 0.855\n",
            "Labels: 3050 \tAccuracy: 0.855\n",
            "Labels: 3060 \tAccuracy: 0.855\n",
            "Labels: 3070 \tAccuracy: 0.855\n",
            "Labels: 3080 \tAccuracy: 0.855\n",
            "Labels: 3090 \tAccuracy: 0.855\n",
            "Labels: 3100 \tAccuracy: 0.855\n",
            "Labels: 3110 \tAccuracy: 0.855\n",
            "Labels: 3120 \tAccuracy: 0.855\n",
            "Labels: 3130 \tAccuracy: 0.855\n",
            "Labels: 3140 \tAccuracy: 0.855\n",
            "Labels: 3150 \tAccuracy: 0.855\n",
            "Labels: 3160 \tAccuracy: 0.855\n",
            "Labels: 3170 \tAccuracy: 0.855\n",
            "Labels: 3180 \tAccuracy: 0.855\n",
            "Labels: 3190 \tAccuracy: 0.855\n",
            "Labels: 3200 \tAccuracy: 0.855\n",
            "Labels: 3210 \tAccuracy: 0.855\n",
            "Labels: 3220 \tAccuracy: 0.855\n",
            "Labels: 3230 \tAccuracy: 0.855\n",
            "Labels: 3240 \tAccuracy: 0.855\n",
            "Labels: 3250 \tAccuracy: 0.855\n",
            "Labels: 3260 \tAccuracy: 0.855\n",
            "Labels: 3270 \tAccuracy: 0.855\n",
            "Labels: 3280 \tAccuracy: 0.855\n",
            "Labels: 3290 \tAccuracy: 0.855\n",
            "Labels: 3300 \tAccuracy: 0.855\n",
            "Labels: 3310 \tAccuracy: 0.855\n",
            "Labels: 3320 \tAccuracy: 0.855\n",
            "Labels: 3330 \tAccuracy: 0.855\n",
            "Labels: 3340 \tAccuracy: 0.855\n",
            "Labels: 3350 \tAccuracy: 0.855\n",
            "Labels: 3360 \tAccuracy: 0.855\n",
            "Labels: 3370 \tAccuracy: 0.855\n",
            "Labels: 3380 \tAccuracy: 0.855\n",
            "Labels: 3390 \tAccuracy: 0.855\n",
            "Labels: 3400 \tAccuracy: 0.855\n",
            "Labels: 3410 \tAccuracy: 0.855\n",
            "Labels: 3420 \tAccuracy: 0.855\n",
            "Labels: 3430 \tAccuracy: 0.855\n",
            "Labels: 3440 \tAccuracy: 0.855\n",
            "Labels: 3450 \tAccuracy: 0.855\n",
            "Labels: 3460 \tAccuracy: 0.8575\n",
            "Labels: 3470 \tAccuracy: 0.8575\n",
            "Labels: 3480 \tAccuracy: 0.8575\n",
            "Labels: 3490 \tAccuracy: 0.8575\n",
            "Labels: 3500 \tAccuracy: 0.8575\n",
            "Labels: 3510 \tAccuracy: 0.8575\n",
            "Labels: 3520 \tAccuracy: 0.8575\n",
            "Labels: 3530 \tAccuracy: 0.8575\n",
            "Labels: 3540 \tAccuracy: 0.8575\n",
            "Labels: 3550 \tAccuracy: 0.8575\n",
            "Labels: 3560 \tAccuracy: 0.8575\n",
            "Labels: 3570 \tAccuracy: 0.8575\n",
            "Labels: 3580 \tAccuracy: 0.8575\n",
            "Labels: 3590 \tAccuracy: 0.8575\n",
            "Labels: 3600 \tAccuracy: 0.8575\n",
            "Labels: 3610 \tAccuracy: 0.8575\n",
            "Labels: 3620 \tAccuracy: 0.8575\n",
            "Labels: 3630 \tAccuracy: 0.8575\n",
            "Labels: 3640 \tAccuracy: 0.8575\n",
            "Labels: 3650 \tAccuracy: 0.8575\n",
            "Labels: 3660 \tAccuracy: 0.8575\n",
            "Labels: 3670 \tAccuracy: 0.8575\n",
            "Labels: 3680 \tAccuracy: 0.8575\n",
            "Labels: 3690 \tAccuracy: 0.8575\n",
            "Labels: 3700 \tAccuracy: 0.8575\n",
            "Labels: 3710 \tAccuracy: 0.8575\n",
            "Labels: 3720 \tAccuracy: 0.8575\n",
            "Labels: 3730 \tAccuracy: 0.8575\n",
            "Labels: 3740 \tAccuracy: 0.8575\n",
            "Labels: 3750 \tAccuracy: 0.8575\n",
            "Labels: 3760 \tAccuracy: 0.8575\n",
            "Labels: 3770 \tAccuracy: 0.8575\n",
            "Labels: 3780 \tAccuracy: 0.8575\n",
            "Labels: 3790 \tAccuracy: 0.8575\n",
            "Labels: 3800 \tAccuracy: 0.8575\n",
            "Labels: 3810 \tAccuracy: 0.8575\n",
            "Labels: 3820 \tAccuracy: 0.8575\n",
            "Labels: 3830 \tAccuracy: 0.8575\n",
            "Labels: 3840 \tAccuracy: 0.8575\n",
            "Labels: 3850 \tAccuracy: 0.8575\n",
            "Labels: 3860 \tAccuracy: 0.8575\n",
            "Labels: 3870 \tAccuracy: 0.8575\n",
            "Labels: 3880 \tAccuracy: 0.86\n",
            "Labels: 3890 \tAccuracy: 0.86\n",
            "Labels: 3900 \tAccuracy: 0.86\n",
            "Labels: 3910 \tAccuracy: 0.86\n",
            "Labels: 3920 \tAccuracy: 0.86\n",
            "Labels: 3930 \tAccuracy: 0.86\n",
            "Labels: 3940 \tAccuracy: 0.86\n",
            "Labels: 3950 \tAccuracy: 0.86\n",
            "Labels: 3960 \tAccuracy: 0.86\n",
            "Labels: 3970 \tAccuracy: 0.8625\n",
            "Labels: 3980 \tAccuracy: 0.8625\n",
            "Labels: 3990 \tAccuracy: 0.8625\n",
            "Labels: 4000 \tAccuracy: 0.865\n"
          ],
          "name": "stdout"
        }
      ]
    },
    {
      "cell_type": "code",
      "metadata": {
        "id": "h1yUnE5XtoTF",
        "colab_type": "code",
        "colab": {}
      },
      "source": [
        ""
      ],
      "execution_count": 0,
      "outputs": []
    }
  ]
}